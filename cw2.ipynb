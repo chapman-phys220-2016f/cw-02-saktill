{
 "cells": [
  {
   "cell_type": "code",
   "execution_count": null,
   "metadata": {
    "collapsed": false
   },
   "outputs": [],
   "source": [
    "import coor\n",
    "import pathlength"
   ]
  },
  {
   "cell_type": "markdown",
   "metadata": {},
   "source": [
    "# Classwork 02\n",
    "## Saktill\n",
    "### 9/13/2016\n",
    "\n",
    "We finished 2/3 problems completely, which are coor.py and pathlength.py. We then kept running into an unresolvable list problem for kinematix.py. We couldn't get the function to append to an empty list after taking a list as a parameter. But that was the only problem we seemed to encounter."
   ]
  },
  {
   "cell_type": "markdown",
   "metadata": {},
   "source": [
    "Below we show the output for coor.py. This module takes in 3 parameters which are an interval and a number of divisions of that interval. We show this by example by choosing the interval [0,1] with 4 divisions."
   ]
  },
  {
   "cell_type": "code",
   "execution_count": null,
   "metadata": {
    "collapsed": false
   },
   "outputs": [],
   "source": [
    "print coor.equalSpacedCoordinates(4,0,1)"
   ]
  },
  {
   "cell_type": "markdown",
   "metadata": {},
   "source": [
    "Now we show the output for pathlength.py. The function in this module takes in two lists as its parameters. Lists x and y can be thought of as the respective components of a certain vector."
   ]
  },
  {
   "cell_type": "code",
   "execution_count": null,
   "metadata": {
    "collapsed": true
   },
   "outputs": [],
   "source": [
    "x = [1,3]\n",
    "y = [2,4]\n",
    "print pathlength.pathlength(x,y)"
   ]
  },
  {
   "cell_type": "code",
   "execution_count": null,
   "metadata": {
    "collapsed": true
   },
   "outputs": [],
   "source": []
  }
 ],
 "metadata": {
  "kernelspec": {
   "display_name": "Python 2 (SageMath)",
   "language": "python",
   "name": "python2"
  },
  "language_info": {
   "codemirror_mode": {
    "name": "ipython",
    "version": 2
   },
   "file_extension": ".py",
   "mimetype": "text/x-python",
   "name": "python",
   "nbconvert_exporter": "python",
   "pygments_lexer": "ipython2",
   "version": "2.7.10"
  }
 },
 "nbformat": 4,
 "nbformat_minor": 0
}
